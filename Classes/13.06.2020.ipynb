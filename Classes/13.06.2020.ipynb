{
 "cells": [
  {
   "cell_type": "markdown",
   "metadata": {},
   "source": [
    "### CSE-221710302060-Shaik Shoaib Aslam"
   ]
  },
  {
   "cell_type": "markdown",
   "metadata": {},
   "source": [
    "### Problem Solving"
   ]
  },
  {
   "cell_type": "code",
   "execution_count": 62,
   "metadata": {},
   "outputs": [
    {
     "name": "stdout",
     "output_type": "stream",
     "text": [
      "4\n",
      "5\n"
     ]
    }
   ],
   "source": [
    "user_id = [1,1,2,3,3,4,4,4,5,5]\n",
    "user = list(set(user_id))\n",
    "ancestry=[\"England\",\"Ireland\",\"France\",\"Germany\",\"Poland\",\"England\",\"France\",\"Germany\",\"France\",\"Germany\"]\n",
    "dict1 = {}\n",
    "for i in user:\n",
    "    dict1[i] = [ancestry[j] for j in range(len(user_id)) if i == user_id[j]]\n",
    "\n",
    "required = [\"France\",\"Germany\"]\n",
    "\n",
    "for i in dict1.values():\n",
    "    flag = 0\n",
    "    for j in required:\n",
    "        if j in i:\n",
    "            flag += 1\n",
    "    if flag == len(required):\n",
    "        for key,values in dict1.items():\n",
    "            if i == values:\n",
    "                print(key)"
   ]
  }
 ],
 "metadata": {
  "kernelspec": {
   "display_name": "Python 3",
   "language": "python",
   "name": "python3"
  },
  "language_info": {
   "codemirror_mode": {
    "name": "ipython",
    "version": 3
   },
   "file_extension": ".py",
   "mimetype": "text/x-python",
   "name": "python",
   "nbconvert_exporter": "python",
   "pygments_lexer": "ipython3",
   "version": "3.7.6"
  }
 },
 "nbformat": 4,
 "nbformat_minor": 4
}
