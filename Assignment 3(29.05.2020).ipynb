{
 "cells": [
  {
   "cell_type": "markdown",
   "metadata": {},
   "source": [
    "## CSE-221710302060-Shaik Shoaib Aslam"
   ]
  },
  {
   "cell_type": "code",
   "execution_count": 3,
   "metadata": {},
   "outputs": [
    {
     "name": "stdout",
     "output_type": "stream",
     "text": [
      "Enter a Number5\n",
      "120\n"
     ]
    }
   ],
   "source": [
    "#Question 1(Factorial)\n",
    "def fact(n):\n",
    "    if n == 1:\n",
    "        return n\n",
    "    else:\n",
    "        return n*fact(n-1)\n",
    "n = int(input(\"Enter a Number\"))\n",
    "if n > 0:\n",
    "    print(fact(n))"
   ]
  },
  {
   "cell_type": "code",
   "execution_count": 61,
   "metadata": {},
   "outputs": [
    {
     "name": "stdout",
     "output_type": "stream",
     "text": [
      "Enter a number : 5\n",
      "5 th Fibonacci number is 3\n"
     ]
    }
   ],
   "source": [
    "#Question 2(Fibonacci)\n",
    "def fib(n):\n",
    "    if n == 1:\n",
    "        return 0\n",
    "    elif n == 2:\n",
    "        return 1\n",
    "    else:\n",
    "        return fib(n-1)+fib(n-2)\n",
    "\n",
    "n = int(input(\"Enter a number : \"))\n",
    "print(n,\"th Fibonacci number is\",fib(n))"
   ]
  },
  {
   "cell_type": "code",
   "execution_count": 4,
   "metadata": {},
   "outputs": [
    {
     "name": "stdout",
     "output_type": "stream",
     "text": [
      "Enter a Number : 5\n",
      "15\n"
     ]
    }
   ],
   "source": [
    "#Question 3\n",
    "def add(n):\n",
    "    if n == 0:\n",
    "        return n\n",
    "    elif n == 1:\n",
    "        return n\n",
    "    else:\n",
    "        return n+add(n-1)\n",
    "n = int(input(\"Enter a Number : \"))\n",
    "print(add(n))"
   ]
  },
  {
   "cell_type": "code",
   "execution_count": 49,
   "metadata": {
    "scrolled": true
   },
   "outputs": [
    {
     "name": "stdout",
     "output_type": "stream",
     "text": [
      "Enter elements in list-2 5 8 1 7 4\n",
      "['8', '4'] is/are even numbers in given list\n"
     ]
    }
   ],
   "source": [
    "#Question 4\n",
    "list1 = []\n",
    "list2 = []\n",
    "user_input = input(\"Enter elements in list\")\n",
    "list1 = user_input.split()\n",
    "for i in range(0,len(list1)):\n",
    "    n = int(list1[i])\n",
    "    if n > 0:\n",
    "        if n%2 == 0:\n",
    "            list2.append(list1[i])\n",
    "print(list2,\"is/are even numbers in given list\")"
   ]
  },
  {
   "cell_type": "code",
   "execution_count": 38,
   "metadata": {
    "scrolled": false
   },
   "outputs": [
    {
     "name": "stdout",
     "output_type": "stream",
     "text": [
      "Enter elements in list : 5 6 12 99 23 1 234\n",
      "smallest number is  1\n",
      "Index of smallest number is  5\n"
     ]
    }
   ],
   "source": [
    "#Question 5\n",
    "list1 = []\n",
    "user_input = input(\"Enter elements in list : \")\n",
    "list1 = user_input.split()\n",
    "m = min(list1)\n",
    "print(\"smallest number is \",m)\n",
    "for i in range(0,len(list1)):\n",
    "    if m == list1[i]:\n",
    "        print(\"Index of smallest number is \",i)"
   ]
  },
  {
   "cell_type": "code",
   "execution_count": 28,
   "metadata": {},
   "outputs": [
    {
     "name": "stdout",
     "output_type": "stream",
     "text": [
      "Enter a string : eye\n",
      "It is Palindrome!\n"
     ]
    }
   ],
   "source": [
    "#Question 6\n",
    "def Palindrome(n):\n",
    "    if n == n[::-1]:\n",
    "        print(\"It is Palindrome!\")\n",
    "    else:\n",
    "        print(\"It is not a Palindrome!\")\n",
    "        \n",
    "n = input(\"Enter a string : \")\n",
    "Palindrome(n)"
   ]
  },
  {
   "cell_type": "code",
   "execution_count": 50,
   "metadata": {},
   "outputs": [
    {
     "name": "stdout",
     "output_type": "stream",
     "text": [
      "Enter elements in list :1 2 3 4 5 6 7 8 9\n",
      "Number of Even Numbers: 4\n",
      "Number of Odd Numbers: 5\n"
     ]
    }
   ],
   "source": [
    "#Question 7\n",
    "numbers = []\n",
    "even = 0\n",
    "odd = 0\n",
    "user_input = input(\"Enter elements in list :\")\n",
    "numbers = user_input.split()\n",
    "for i in range(0,len(numbers)):\n",
    "    n = int(numbers[i])\n",
    "    if n%2 == 0:\n",
    "        even = even + 1\n",
    "    else:\n",
    "        odd = odd + 1\n",
    "print(\"Number of Even Numbers:\",even)\n",
    "print(\"Number of Odd Numbers:\",odd)"
   ]
  },
  {
   "cell_type": "code",
   "execution_count": 9,
   "metadata": {},
   "outputs": [
    {
     "name": "stdout",
     "output_type": "stream",
     "text": [
      "0\n",
      "1\n",
      "2\n",
      "4\n",
      "5\n"
     ]
    }
   ],
   "source": [
    "#Question 8\n",
    "for i in range(0,6):\n",
    "    if i == 3 or i == 6:\n",
    "        continue\n",
    "    else:\n",
    "        print(i)\n",
    "\n",
    "    "
   ]
  },
  {
   "cell_type": "code",
   "execution_count": 8,
   "metadata": {},
   "outputs": [
    {
     "name": "stdout",
     "output_type": "stream",
     "text": [
      "Enter a Number : 29\n",
      "29 is a prime number\n"
     ]
    }
   ],
   "source": [
    "#Question 9\n",
    "n = int(input(\"Enter a Number : \"))\n",
    "if n > 1:\n",
    "    for i in range(2,n):\n",
    "        if (n % i) == 0:\n",
    "            print(n,\"is not a prime number\")\n",
    "            break\n",
    "    else:\n",
    "        print(n,\"is a prime number\")\n",
    "else:\n",
    "    print(n,\"is not a prime number nor composite\")\n",
    "\n"
   ]
  },
  {
   "cell_type": "code",
   "execution_count": 27,
   "metadata": {},
   "outputs": [
    {
     "name": "stdout",
     "output_type": "stream",
     "text": [
      "Enter Number : 12\n",
      "It is Adam Number\n"
     ]
    }
   ],
   "source": [
    "#Question 10\n",
    "def RevNumber(n):\n",
    "    rev = 0\n",
    "    while n > 0:\n",
    "        rem = n%10\n",
    "        rev = (rev*10) + rem\n",
    "        n = n//10\n",
    "    return rev\n",
    "def AdamNumber(n):\n",
    "    k = n*n\n",
    "    krev = RevNumber(n)*RevNumber(n)\n",
    "    revnum = RevNumber(krev)\n",
    "    if k == revnum:\n",
    "        print(\"It is Adam Number\")\n",
    "    else:\n",
    "        print(\"It is Not An Adam Number\")\n",
    "n = int(input(\"Enter Number : \"))\n",
    "AdamNumber(n)"
   ]
  },
  {
   "cell_type": "code",
   "execution_count": null,
   "metadata": {},
   "outputs": [],
   "source": []
  }
 ],
 "metadata": {
  "kernelspec": {
   "display_name": "Python 3",
   "language": "python",
   "name": "python3"
  },
  "language_info": {
   "codemirror_mode": {
    "name": "ipython",
    "version": 3
   },
   "file_extension": ".py",
   "mimetype": "text/x-python",
   "name": "python",
   "nbconvert_exporter": "python",
   "pygments_lexer": "ipython3",
   "version": "3.7.6"
  }
 },
 "nbformat": 4,
 "nbformat_minor": 4
}
