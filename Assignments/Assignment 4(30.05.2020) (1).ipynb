{
 "cells": [
  {
   "cell_type": "markdown",
   "metadata": {},
   "source": [
    "### CSE-221710302060-Shaik Shoaib Aslam"
   ]
  },
  {
   "cell_type": "code",
   "execution_count": 1,
   "metadata": {},
   "outputs": [],
   "source": [
    "#Question 1\n",
    "# Creating a file \n",
    "f = open(\"test1.txt\",\"w\")\n",
    "f.write(\"\"\"python is easy to learn.\n",
    "python is an interpreted and object oriented and highlevel programming language with dynamic semantics.\n",
    "python supports modules and packages which encourages program modularity and code reuse.\"\"\")\n",
    "f.close()"
   ]
  },
  {
   "cell_type": "code",
   "execution_count": 2,
   "metadata": {},
   "outputs": [
    {
     "name": "stdout",
     "output_type": "stream",
     "text": [
      "python is easy to learn.\n",
      "python is an interpreted and object oriented and highlevel programming language with dynamic semantics.\n",
      "python supports modules and packages which encourages program modularity and code reuse.\n"
     ]
    }
   ],
   "source": [
    "f = open(\"test1.txt\",\"r\")\n",
    "data = f.read()\n",
    "print(data)\n",
    "f.close()"
   ]
  },
  {
   "cell_type": "code",
   "execution_count": 3,
   "metadata": {},
   "outputs": [
    {
     "name": "stdout",
     "output_type": "stream",
     "text": [
      "no of Words :  31\n",
      "no of Lines :  3\n",
      "No of Characters are :  189\n"
     ]
    }
   ],
   "source": [
    "#Question 1\n",
    "#Wordcount, Line Count, Character Count\n",
    "def WordCount(f):\n",
    "    wcount = 0\n",
    "    for line in f:\n",
    "        words = line.split(\" \")\n",
    "        wcount += len(words)\n",
    "    print(\"no of Words : \",wcount)\n",
    "def LineCount(f1):\n",
    "    lcount = 0\n",
    "    for word in f1:\n",
    "        lines = word.split(\"/n\")\n",
    "        lcount += len(lines)\n",
    "    print(\"no of Lines : \",lcount)\n",
    "def CharCount(f2):\n",
    "    chcount = 0\n",
    "    data = f2.read().replace(\" \",\"\")\n",
    "    chcount += len(data)\n",
    "    print(\"No of Characters are : \",chcount)\n",
    "    \n",
    "\n",
    "f = open(\"test1.txt\",\"r\")\n",
    "f1 = open(\"test1.txt\",\"r\")\n",
    "f2 = open(\"test1.txt\",\"r\")\n",
    "WordCount(f)\n",
    "LineCount(f1)\n",
    "CharCount(f2)\n",
    "f.close()\n",
    "f1.close()\n",
    "f2.close()"
   ]
  },
  {
   "cell_type": "code",
   "execution_count": 4,
   "metadata": {},
   "outputs": [
    {
     "name": "stdout",
     "output_type": "stream",
     "text": [
      "Copied Data From Another File :  python is easy to learn.\n",
      "python is an interpreted and object oriented and highlevel programming language with dynamic semantics.\n",
      "python supports modules and packages which encourages program modularity and code reuse.\n"
     ]
    }
   ],
   "source": [
    "#Question 2\n",
    "f = open(\"test1.txt\",\"r\")\n",
    "f1 = open(\"test2.txt\",\"w\")\n",
    "for i in f.readlines():\n",
    "    f1.write(i)\n",
    "f.close()\n",
    "\n",
    "f1 = open(\"test2.txt\",\"r\")\n",
    "data = f1.read()\n",
    "print(\"Copied Data From Another File : \",data)\n",
    "f1.close()"
   ]
  },
  {
   "cell_type": "code",
   "execution_count": 5,
   "metadata": {},
   "outputs": [
    {
     "name": "stdout",
     "output_type": "stream",
     "text": [
      "python\n",
      "python\n",
      "programming\n",
      "python\n",
      "packages\n",
      "program\n"
     ]
    }
   ],
   "source": [
    "#Question 3\n",
    "f = open(\"test1.txt\",\"r\")\n",
    "data = f.read()\n",
    "List = data.split()\n",
    "for i in List:\n",
    "    if i.startswith(\"p\"):\n",
    "        print(i)\n",
    "f.close()"
   ]
  },
  {
   "cell_type": "code",
   "execution_count": 6,
   "metadata": {},
   "outputs": [],
   "source": [
    "#Question 4\n",
    "import os\n",
    "os.rename(\"test2.txt\",\"test.txt\")\n",
    "os.remove(\"test.txt\")"
   ]
  },
  {
   "cell_type": "code",
   "execution_count": 1,
   "metadata": {},
   "outputs": [],
   "source": [
    "#Question 5\n",
    "#Creating a Directory\n",
    "import os\n",
    "path_name = \"C:\\\\Users\\\\ShoaibShaik\\\\Desktop\\\\AIandML\\\\Assignments\"\n",
    "Folder_Name = \"NewFolder\"\n",
    "path = os.path.join(path_name,Folder_Name)\n",
    "os.mkdir(path)"
   ]
  },
  {
   "cell_type": "code",
   "execution_count": 2,
   "metadata": {},
   "outputs": [],
   "source": [
    "#Changing to New Directory and Creating Files\n",
    "import os\n",
    "os.chdir(\"C:\\\\Users\\\\ShoaibShaik\\\\Desktop\\\\AIandML\\\\Assignments\\\\NewFolder\")\n",
    "for i in range(0,5):\n",
    "    f = open(\"test\"+str(i)+\".txt\",\"w\")"
   ]
  },
  {
   "cell_type": "code",
   "execution_count": 4,
   "metadata": {},
   "outputs": [],
   "source": [
    "#Writing Data Into Files\n",
    "for i in range(0,5):\n",
    "    with open(\"test{}.txt\".format(i),\"w\") as f:\n",
    "        f.write(\"This is File {}\".format(i))\n",
    "        "
   ]
  },
  {
   "cell_type": "code",
   "execution_count": 7,
   "metadata": {},
   "outputs": [],
   "source": [
    "#Setting the File Size of 512 Bytes\n",
    "for i in range(0,5):\n",
    "    with open(\"test{}.txt\".format(i),\"wb\") as f:\n",
    "        f.seek(512-1)\n",
    "        f.write(b\"\\0\")"
   ]
  },
  {
   "cell_type": "code",
   "execution_count": 9,
   "metadata": {},
   "outputs": [
    {
     "name": "stdout",
     "output_type": "stream",
     "text": [
      "512\n",
      "512\n",
      "512\n",
      "512\n",
      "512\n"
     ]
    }
   ],
   "source": [
    "#Printing Size of Files\n",
    "for i in range(0,5):\n",
    "    print(os.stat(\"test{}.txt\".format(i)).st_size)"
   ]
  },
  {
   "cell_type": "code",
   "execution_count": null,
   "metadata": {},
   "outputs": [],
   "source": []
  }
 ],
 "metadata": {
  "kernelspec": {
   "display_name": "Python 3",
   "language": "python",
   "name": "python3"
  },
  "language_info": {
   "codemirror_mode": {
    "name": "ipython",
    "version": 3
   },
   "file_extension": ".py",
   "mimetype": "text/x-python",
   "name": "python",
   "nbconvert_exporter": "python",
   "pygments_lexer": "ipython3",
   "version": "3.7.6"
  }
 },
 "nbformat": 4,
 "nbformat_minor": 4
}
