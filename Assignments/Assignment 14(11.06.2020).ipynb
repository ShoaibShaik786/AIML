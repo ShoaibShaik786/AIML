{
 "cells": [
  {
   "cell_type": "markdown",
   "metadata": {},
   "source": [
    "### CSE-221710302060-Shaik Shoaib Aslam"
   ]
  },
  {
   "cell_type": "code",
   "execution_count": 1,
   "metadata": {},
   "outputs": [
    {
     "name": "stdout",
     "output_type": "stream",
     "text": [
      "4\n",
      "a\n",
      "ab\n",
      "abcd\n",
      "aaaaa\n",
      "YES\n",
      "YES\n",
      "NO\n",
      "YES\n"
     ]
    }
   ],
   "source": [
    "# Question 1\n",
    "def L(x):return x[1:]+x[0]\n",
    "def R(x):return x[-1]+x[0:len(x)-1]\n",
    "n = int(input())\n",
    "list1 = [input() for i in range(n)]\n",
    "for x in list1:\n",
    "    print(\"YES\") if L(x) == R(x) else print(\"NO\")"
   ]
  },
  {
   "cell_type": "code",
   "execution_count": 3,
   "metadata": {},
   "outputs": [
    {
     "name": "stdout",
     "output_type": "stream",
     "text": [
      "20 23 6\n",
      "2\n"
     ]
    }
   ],
   "source": [
    "# Question 2\n",
    "count = 0\n",
    "i,j,k=map(int,input().split())\n",
    "for temp in range(i,j+1):\n",
    "      if (temp - int(str(temp)[::-1]))%k == 0:\n",
    "            count += 1\n",
    "print(count)"
   ]
  },
  {
   "cell_type": "code",
   "execution_count": 4,
   "metadata": {},
   "outputs": [
    {
     "name": "stdout",
     "output_type": "stream",
     "text": [
      "4\n",
      "3 2 1 3\n"
     ]
    },
    {
     "data": {
      "text/plain": [
       "2"
      ]
     },
     "execution_count": 4,
     "metadata": {},
     "output_type": "execute_result"
    }
   ],
   "source": [
    "# Question 3\n",
    "n = int(input())\n",
    "ls=[int(i) for i in input().split()]\n",
    "ls.count(max(ls))"
   ]
  },
  {
   "cell_type": "code",
   "execution_count": 12,
   "metadata": {},
   "outputs": [
    {
     "name": "stdout",
     "output_type": "stream",
     "text": [
      "4,1,2,1\n",
      "4211,12\n"
     ]
    }
   ],
   "source": [
    "# Question 4\n",
    "n=[int(i) for i in input().split(\",\")]\n",
    "\n",
    "def fact(n):\n",
    "    if n<=1:\n",
    "        return 1\n",
    "    else:\n",
    "        return n*fact(n-1)\n",
    "    \n",
    "def combinations(n):\n",
    "    s=list(set(n))\n",
    "    s.sort(reverse=True)\n",
    "    denom=1\n",
    "    for i in s:\n",
    "        denom*=fact(n.count(i))                # from position getting frequency of repeated elements\n",
    "\n",
    "    pos=fact(len(n))/(denom)\n",
    "    \n",
    "    n.sort(reverse=True)\n",
    "    ans=0\n",
    "    for i in n:\n",
    "        ans=ans*10+i\n",
    "    print(ans,\",\",int(pos),sep=\"\")\n",
    "\n",
    "combinations(n)"
   ]
  },
  {
   "cell_type": "markdown",
   "metadata": {},
   "source": []
  },
  {
   "cell_type": "code",
   "execution_count": 3,
   "metadata": {},
   "outputs": [
    {
     "name": "stdout",
     "output_type": "stream",
     "text": [
      "124\n"
     ]
    },
    {
     "data": {
      "text/plain": [
       "545"
      ]
     },
     "execution_count": 3,
     "metadata": {},
     "output_type": "execute_result"
    }
   ],
   "source": [
    "# Question 5\n",
    "def checkPalindrome(n):\n",
    "    if str(n) == str(n)[::-1]:\n",
    "        return n\n",
    "    else:\n",
    "        n = n + int(str(n)[::-1])\n",
    "        return checkPalindrome(n)\n",
    "n = int(input())\n",
    "checkPalindrome(n)"
   ]
  },
  {
   "cell_type": "code",
   "execution_count": 9,
   "metadata": {},
   "outputs": [
    {
     "name": "stdout",
     "output_type": "stream",
     "text": [
      "2\n",
      "5 3\n",
      "2 4 2 4 2\n",
      "8 5\n",
      "9 3 5 7 8 11 17 2\n",
      "5\n",
      "3\n"
     ]
    }
   ],
   "source": [
    "# Question 6\n",
    "\n",
    "def secondMax(k,l):\n",
    "    if len(l) == 1:\n",
    "        if k < l[0]:\n",
    "            return True\n",
    "        else:\n",
    "            return False\n",
    "        \n",
    "    max1 = max(l)\n",
    "    l=[value for value in l if value != max1]            # removing all occurences \n",
    "    max2=max(l)                                         # second maximum\n",
    "    if k < max1 and k > max2:   # Getting Second Max\n",
    "        return True\n",
    "    else:\n",
    "        return False\n",
    "    \n",
    "ls=[]\n",
    "t=int(input())\n",
    "for cases in range(t):\n",
    "    n,k = map(int,input().split())\n",
    "    a=[int(i) for i in input().split()]\n",
    "    mx = 1\n",
    "    wlen = 1                         # length of sliding window\n",
    "    while(wlen<len(a)):\n",
    "        e=0\n",
    "        while(e+wlen<len(a)):\n",
    "            if secondMax(k,a[e:e + wlen]):\n",
    "                if wlen > mx:\n",
    "                    mx = wlen\n",
    "\n",
    "            e += 1\n",
    "        wlen += 1\n",
    "    ls.append(mx+1)\n",
    "\n",
    "\n",
    "for i in ls:\n",
    "    print(i,sep=\" \")\n",
    "\n",
    "\n"
   ]
  }
 ],
 "metadata": {
  "kernelspec": {
   "display_name": "Python 3",
   "language": "python",
   "name": "python3"
  },
  "language_info": {
   "codemirror_mode": {
    "name": "ipython",
    "version": 3
   },
   "file_extension": ".py",
   "mimetype": "text/x-python",
   "name": "python",
   "nbconvert_exporter": "python",
   "pygments_lexer": "ipython3",
   "version": "3.7.6"
  }
 },
 "nbformat": 4,
 "nbformat_minor": 4
}
