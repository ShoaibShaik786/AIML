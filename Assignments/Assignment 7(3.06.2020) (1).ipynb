{
 "cells": [
  {
   "cell_type": "code",
   "execution_count": 18,
   "metadata": {},
   "outputs": [
    {
     "name": "stdout",
     "output_type": "stream",
     "text": [
      ".nrael ot ysae si nohtyp.scitnames cimanyd htiw egaugnal gnimmargorp levelhgih dna detneiro tcejbo dna deterpretni na si nohtyp.esuer edoc dna ytiraludom margorp segaruocne hcihw segakcap dna seludom stroppus nohtyp\n"
     ]
    }
   ],
   "source": [
    "#Question 1\n",
    "def reverse(lines):\n",
    "    lines = lines[::-1]\n",
    "    return lines\n",
    "\n",
    "\n",
    "with open(\"test1.txt\",\"r\") as f:\n",
    "    with open(\"test2.txt\",\"w\") as f1:\n",
    "        for lines in f.readlines():\n",
    "            lines = lines.strip('\\n')\n",
    "            new_lines = reverse(lines)\n",
    "            f1.write(new_lines)\n",
    "        f.close()\n",
    "        \n",
    "f1 = open(\"test2.txt\",\"r\")\n",
    "data = f1.read()\n",
    "print(data)\n",
    "f1.close()"
   ]
  },
  {
   "cell_type": "code",
   "execution_count": 4,
   "metadata": {},
   "outputs": [
    {
     "name": "stdout",
     "output_type": "stream",
     "text": [
      "1 python is easy to learn.\n",
      "2 python is an interpreted and object oriented and highlevel programming language with dynamic semantics.\n",
      "3 python supports modules and packages which encourages program modularity and code reuse.\n"
     ]
    }
   ],
   "source": [
    "#Question 2\n",
    "line_number = 0\n",
    "with open(\"test1.txt\",\"r\") as f:\n",
    "    for lines in f:\n",
    "        line_number += 1\n",
    "        data = lines.strip()\n",
    "        print(line_number,data)\n",
    "f.close()"
   ]
  },
  {
   "cell_type": "code",
   "execution_count": 1,
   "metadata": {},
   "outputs": [
    {
     "name": "stdout",
     "output_type": "stream",
     "text": [
      "Enter number of elements : 5\n",
      "1\n",
      "2\n",
      "2\n",
      "3\n",
      "4\n",
      "Invalid! Removing Duplicates\n",
      "List after duplicates are removed  ['1', '2', '3', '4']\n"
     ]
    }
   ],
   "source": [
    "#Question 3\n",
    "def duplicates(list1):\n",
    "        for i in range(len(list1)):\n",
    "            for j in range(i+1,len(list1)):\n",
    "                    if list1[i] == list1[j]:\n",
    "                        return True\n",
    "                    else:\n",
    "                        continue\n",
    "        return False\n",
    "\n",
    "def removeDuplicates(list1):\n",
    "    return list(dict.fromkeys(list1))# Converting the list to dictionary because dictionary cannot have duplicate values.\n",
    "# While coverting each list element is taken as keys as they cannot be duplicate and later converting again to list\n",
    "\n",
    "    \n",
    "list1 = [] \n",
    "  \n",
    "n = int(input(\"Enter number of elements : \")) \n",
    "  \n",
    "for i in range(0, n): \n",
    "    elements = input()\n",
    "  \n",
    "    list1.append(elements) \n",
    "    \n",
    "if duplicates(list1):\n",
    "    print(\"Invalid! Removing Duplicates\")\n",
    "    new_list = removeDuplicates(list1)\n",
    "    print(\"List after duplicates are removed \",new_list)\n",
    "else:\n",
    "    print(\"List has no duplicates\",list1)"
   ]
  },
  {
   "cell_type": "code",
   "execution_count": 4,
   "metadata": {},
   "outputs": [
    {
     "name": "stdout",
     "output_type": "stream",
     "text": [
      "4 / 3\n",
      "89 / 45\n",
      "14 / 15\n",
      "-19 / 45\n",
      "2 / 1\n"
     ]
    }
   ],
   "source": [
    "#Question 4\n",
    "import fractions\n",
    "fractions.create(4,3)\n",
    "fractions.add1(6,5,7,9) # addition function taking numerators and denominaters of both fractions\n",
    "fractions.mul1(6,5,7,9)\n",
    "fractions.diff1(7,9,6,5)\n",
    "fractions.div1(16,4,4,2)"
   ]
  },
  {
   "cell_type": "code",
   "execution_count": 1,
   "metadata": {},
   "outputs": [
    {
     "name": "stdout",
     "output_type": "stream",
     "text": [
      "enter no of elements for both lists3\n",
      "1 2\n",
      "1 1\n",
      "2 1\n"
     ]
    },
    {
     "data": {
      "text/plain": [
       "True"
      ]
     },
     "execution_count": 1,
     "metadata": {},
     "output_type": "execute_result"
    }
   ],
   "source": [
    "#Question 5\n",
    "import collections\n",
    "\n",
    "def isPermutation(list1,list2):\n",
    "    if collections.Counter(list1) == collections.Counter(list2):\n",
    "        return True\n",
    "    else:\n",
    "        return False\n",
    "    \n",
    "    \n",
    "list1 = []\n",
    "list2 = []\n",
    "n = int(input(\"enter no of elements for both lists\"))\n",
    "for i in range(n):\n",
    "    a,b = map(int,input().split(' '))   # Taking Input for two lists using map function\n",
    "    list1.append(a)\n",
    "    list2.append(b)\n",
    "\n",
    "isPermutation(list1,list2)\n",
    "\n"
   ]
  }
 ],
 "metadata": {
  "kernelspec": {
   "display_name": "Python 3",
   "language": "python",
   "name": "python3"
  },
  "language_info": {
   "codemirror_mode": {
    "name": "ipython",
    "version": 3
   },
   "file_extension": ".py",
   "mimetype": "text/x-python",
   "name": "python",
   "nbconvert_exporter": "python",
   "pygments_lexer": "ipython3",
   "version": "3.7.6"
  }
 },
 "nbformat": 4,
 "nbformat_minor": 4
}
