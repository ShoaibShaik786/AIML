{
 "cells": [
  {
   "cell_type": "markdown",
   "metadata": {},
   "source": [
    "### CSE-221710302060-Shaik Shoaib Aslam"
   ]
  },
  {
   "cell_type": "markdown",
   "metadata": {},
   "source": [
    "### Nine Lives"
   ]
  },
  {
   "cell_type": "markdown",
   "metadata": {},
   "source": [
    "#### Function to generate random words from a text file"
   ]
  },
  {
   "cell_type": "code",
   "execution_count": 19,
   "metadata": {},
   "outputs": [],
   "source": [
    "secret = []\n",
    "def getWords(secret):\n",
    "    f = open('C:\\\\Users\\\\ShoaibShaik\\\\Desktop\\\\words.txt','r')\n",
    "    for line in f:\n",
    "        line  = line.strip('\\n')\n",
    "        secret.append(line)\n",
    "    f.close()"
   ]
  },
  {
   "cell_type": "markdown",
   "metadata": {},
   "source": [
    "#### Functions for Checking lives and updating after each guess"
   ]
  },
  {
   "cell_type": "code",
   "execution_count": 20,
   "metadata": {},
   "outputs": [],
   "source": [
    "import random\n",
    "word=[]\n",
    "pane=[]\n",
    "secret=[]\n",
    "getWords(secret)\n",
    "word=random.choice(secret)\n",
    "pane=['?']*len(word)\n",
    "\n",
    "#Checking Lives after each guess\n",
    "def checkLives(lives):\n",
    "    for i in range(1,10):\n",
    "        if i<=lives:\n",
    "            print('\\u2661',end='')           \n",
    "           \n",
    "        else:    \n",
    "            print('\\u2620',end='')\n",
    "    print(':'+str(lives))\n",
    "# Decreasing lives for each wrong guess\n",
    "def setLives(lives):\n",
    "    lives-=1\n",
    "    checkLives(lives)\n",
    "    print(\"Sorry!Invalid guess!\")\n",
    "    return lives\n",
    "\n",
    "   \n",
    "\n"
   ]
  },
  {
   "cell_type": "markdown",
   "metadata": {},
   "source": [
    "#### Taking Input from the user to start game"
   ]
  },
  {
   "cell_type": "code",
   "execution_count": 21,
   "metadata": {},
   "outputs": [
    {
     "name": "stdout",
     "output_type": "stream",
     "text": [
      "♡♡♡♡♡♡♡♡♡:9\n",
      "['?', '?', '?', '?', '?']\n",
      "Enter a letter or a whole word:a\n",
      "['?', '?', 'a', '?', '?']\n",
      "Enter a letter or a whole word:e\n",
      "['?', '?', 'a', '?', 'e']\n",
      "Enter a letter or a whole word:i\n",
      "♡♡♡♡♡♡♡♡☠:8\n",
      "Sorry!Invalid guess!\n",
      "['?', '?', 'a', '?', 'e']\n",
      "Enter a letter or a whole word:o\n",
      "♡♡♡♡♡♡♡☠☠:7\n",
      "Sorry!Invalid guess!\n",
      "['?', '?', 'a', '?', 'e']\n",
      "Enter a letter or a whole word:u\n",
      "♡♡♡♡♡♡☠☠☠:6\n",
      "Sorry!Invalid guess!\n",
      "['?', '?', 'a', '?', 'e']\n",
      "Enter a letter or a whole word:t\n",
      "♡♡♡♡♡☠☠☠☠:5\n",
      "Sorry!Invalid guess!\n",
      "['?', '?', 'a', '?', 'e']\n",
      "Enter a letter or a whole word:k\n",
      "['?', '?', 'a', 'k', 'e']\n",
      "Enter a letter or a whole word:l\n",
      "♡♡♡♡☠☠☠☠☠:4\n",
      "Sorry!Invalid guess!\n",
      "['?', '?', 'a', 'k', 'e']\n",
      "Enter a letter or a whole word:m\n",
      "♡♡♡☠☠☠☠☠☠:3\n",
      "Sorry!Invalid guess!\n",
      "['?', '?', 'a', 'k', 'e']\n",
      "Enter a letter or a whole word:n\n",
      "['?', 'n', 'a', 'k', 'e']\n",
      "Enter a letter or a whole word:s\n",
      "['s', 'n', 'a', 'k', 'e']\n",
      "Hurrah! well done.\n"
     ]
    }
   ],
   "source": [
    "lives=9\n",
    "guesses=0\n",
    "guessed_word=False\n",
    "checkLives(lives)\n",
    "while(lives > 0 and not guessed_word):\n",
    "    \n",
    "    print(pane,end='\\n')\n",
    "    guess=input(\"Enter a letter or a whole word:\")\n",
    "   \n",
    "    \n",
    "    if len(guess)==len(word) and lives>0:\n",
    "        if guess.lower()==word:                   #Condition comparing if user gave the whole word as input\n",
    "            guessed_word=True\n",
    "        else:\n",
    "            lives=setLives(lives)\n",
    "\n",
    "    if guess in word:\n",
    "        for i in range(len(word)):\n",
    "            if word[i]==guess:                  #Condition Comparing if user gave single alphabet as input\n",
    "                pane[i]=guess\n",
    "    else:\n",
    "        lives=setLives(lives)\n",
    "        \n",
    "    if '?' not in pane:\n",
    "        print(pane)\n",
    "        guessed_word=True\n",
    "        \n",
    "if(guessed_word and lives>0):\n",
    "    print(\"Hurrah! well done.\")\n",
    "else:\n",
    "    print(\"You didn't make it, better luck next time! It was\",word)\n",
    "\n",
    "\n",
    "        \n"
   ]
  },
  {
   "cell_type": "code",
   "execution_count": null,
   "metadata": {},
   "outputs": [],
   "source": []
  },
  {
   "cell_type": "code",
   "execution_count": null,
   "metadata": {},
   "outputs": [],
   "source": []
  },
  {
   "cell_type": "code",
   "execution_count": null,
   "metadata": {},
   "outputs": [],
   "source": []
  },
  {
   "cell_type": "code",
   "execution_count": null,
   "metadata": {},
   "outputs": [],
   "source": []
  }
 ],
 "metadata": {
  "kernelspec": {
   "display_name": "Python 3",
   "language": "python",
   "name": "python3"
  },
  "language_info": {
   "codemirror_mode": {
    "name": "ipython",
    "version": 3
   },
   "file_extension": ".py",
   "mimetype": "text/x-python",
   "name": "python",
   "nbconvert_exporter": "python",
   "pygments_lexer": "ipython3",
   "version": "3.7.6"
  }
 },
 "nbformat": 4,
 "nbformat_minor": 4
}
