{
 "cells": [
  {
   "cell_type": "markdown",
   "metadata": {},
   "source": [
    "### CSE-221710302060-Shaik Shoaib Aslam"
   ]
  },
  {
   "cell_type": "markdown",
   "metadata": {},
   "source": [
    "## Password Picker"
   ]
  },
  {
   "cell_type": "markdown",
   "metadata": {},
   "source": [
    "#### Functions for taking nouns and verbs from dataset"
   ]
  },
  {
   "cell_type": "code",
   "execution_count": 1,
   "metadata": {},
   "outputs": [],
   "source": [
    "import random\n",
    "import string\n",
    "VERBS = []\n",
    "NOUNS = []\n",
    "password=''\n",
    "#Function for taking nouns from dataset\n",
    "def readNouns(NOUNS):\n",
    "    f = open(\"C:\\\\Users\\\\ShoaibShaik\\\\Downloads\\\\nouns.txt\",\"r\")\n",
    "    for line in f:\n",
    "        line = line.strip('\\n')\n",
    "        NOUNS.append(line)\n",
    "    f.close()\n",
    "\n",
    "#Function for taking verbs from dataset\n",
    "def readVerbs(VERBS):\n",
    "    f = open(\"C:\\\\Users\\\\ShoaibShaik\\\\Downloads\\\\verbs.txt\",\"r\")\n",
    "    for line in f:\n",
    "        line = line.strip('\\n')\n",
    "        VERBS.append(line)\n",
    "    f.close()\n",
    "    \n",
    "readVerbs(VERBS)\n",
    "readNouns(NOUNS)  "
   ]
  },
  {
   "cell_type": "markdown",
   "metadata": {},
   "source": [
    "#### Function for checking whether user is satisfied with the Password"
   ]
  },
  {
   "cell_type": "code",
   "execution_count": 2,
   "metadata": {},
   "outputs": [
    {
     "name": "stdout",
     "output_type": "stream",
     "text": [
      "\n"
     ]
    }
   ],
   "source": [
    "def satisfy(password):\n",
    "\n",
    "    p = str(input(\"satisfied with the password[Y/N]?\"))\n",
    "\n",
    "    if p == \"Y\":\n",
    "        print(\"This is your final password :\",\"\\033[1m\" +password+ \"\\033[1m\") #ANSI method to print string in bold\n",
    "        return True\n",
    "    elif p == \"N\":\n",
    "        password = \"\"\n",
    "        return False\n",
    "print(password)"
   ]
  },
  {
   "cell_type": "markdown",
   "metadata": {},
   "source": [
    "#### Function for generating random passwords"
   ]
  },
  {
   "cell_type": "code",
   "execution_count": 3,
   "metadata": {},
   "outputs": [],
   "source": [
    "\n",
    "def Generatepswd(password):\n",
    "    MAX_LENGTH = 3\n",
    "    VERBS = []\n",
    "    NOUNS = []\n",
    "    readNouns(NOUNS)\n",
    "    readVerbs(VERBS)\n",
    "    DIGITS = string.digits         #taking digits from string module\n",
    "    SPL = string.punctuation       #taking special characters from string module\n",
    "\n",
    "    # taking random input using random module\n",
    "    rand_verb = random.choice(VERBS)  \n",
    "    rand_noun = random.choice(NOUNS)\n",
    "    rand_dig = random.choice(DIGITS)\n",
    "    rand_spl = random.choice(SPL)\n",
    "\n",
    "# Combining all rand_verb+rand_noun+rand_dig+rand_spl\n",
    "    \n",
    "    password = rand_verb.capitalize() + rand_noun.capitalize() +rand_dig +rand_spl\n",
    "    return password"
   ]
  },
  {
   "cell_type": "markdown",
   "metadata": {},
   "source": [
    "#### Taking Input from the user and start generating passwords"
   ]
  },
  {
   "cell_type": "code",
   "execution_count": 4,
   "metadata": {},
   "outputs": [
    {
     "name": "stdout",
     "output_type": "stream",
     "text": [
      "InventoryNanoparticle6\"\n",
      "satisfied with the password[Y/N]?N\n",
      "WriteBark1!\n",
      "satisfied with the password[Y/N]?N\n",
      "CatalogThong3+\n",
      "satisfied with the password[Y/N]?N\n",
      "ShowPigsty2)\n",
      "satisfied with the password[Y/N]?N\n",
      "SynthesizeInevitable9)\n",
      "satisfied with the password[Y/N]?N\n",
      "DiscoverAim9[\n",
      "satisfied with the password[Y/N]?Y\n",
      "This is your final password : \u001b[1mDiscoverAim9[\u001b[1m\n"
     ]
    }
   ],
   "source": [
    "while(True):\n",
    "    \n",
    "    final = Generatepswd(password)\n",
    "    print(final)\n",
    "    if satisfy(final):\n",
    "        break"
   ]
  },
  {
   "cell_type": "code",
   "execution_count": null,
   "metadata": {},
   "outputs": [],
   "source": []
  }
 ],
 "metadata": {
  "kernelspec": {
   "display_name": "Python 3",
   "language": "python",
   "name": "python3"
  },
  "language_info": {
   "codemirror_mode": {
    "name": "ipython",
    "version": 3
   },
   "file_extension": ".py",
   "mimetype": "text/x-python",
   "name": "python",
   "nbconvert_exporter": "python",
   "pygments_lexer": "ipython3",
   "version": "3.7.6"
  }
 },
 "nbformat": 4,
 "nbformat_minor": 4
}
