{
 "cells": [
  {
   "cell_type": "markdown",
   "metadata": {},
   "source": [
    "### CSE-221710302060-Shaik Shoaib Aslam"
   ]
  },
  {
   "cell_type": "code",
   "execution_count": 1,
   "metadata": {},
   "outputs": [],
   "source": [
    "import pandas as pd"
   ]
  },
  {
   "cell_type": "code",
   "execution_count": 117,
   "metadata": {},
   "outputs": [
    {
     "name": "stdout",
     "output_type": "stream",
     "text": [
      "2 4 6 8 10\n",
      "1 3 5 7 9\n",
      "[2, 4, 6, 8, 10] + [1, 3, 5, 7, 9] = [3, 7, 11, 15, 19]\n"
     ]
    }
   ],
   "source": [
    "#Question 1\n",
    "list1 = [int(i) for i in input().split()]\n",
    "list2 = [int(i) for i in input().split()]\n",
    "arr = pd.array(list1)\n",
    "arr1 = pd.array(list2)\n",
    "#Addition\n",
    "print('{} + {} = {}'.format(list1,list2,list(arr+arr1)))"
   ]
  },
  {
   "cell_type": "code",
   "execution_count": 119,
   "metadata": {},
   "outputs": [
    {
     "name": "stdout",
     "output_type": "stream",
     "text": [
      "[2, 4, 6, 8, 10] + [1, 3, 5, 7, 9] = [1, 1, 1, 1, 1]\n"
     ]
    }
   ],
   "source": [
    "#Subtraction\n",
    "print('{} + {} = {}'.format(list1,list2,list(arr-arr1)))"
   ]
  },
  {
   "cell_type": "code",
   "execution_count": 120,
   "metadata": {},
   "outputs": [
    {
     "name": "stdout",
     "output_type": "stream",
     "text": [
      "[2, 4, 6, 8, 10] + [1, 3, 5, 7, 9] = [2, 12, 30, 56, 90]\n"
     ]
    }
   ],
   "source": [
    "#Multiply\n",
    "print('{} + {} = {}'.format(list1,list2,list(arr*arr1)))"
   ]
  },
  {
   "cell_type": "code",
   "execution_count": 121,
   "metadata": {},
   "outputs": [
    {
     "name": "stdout",
     "output_type": "stream",
     "text": [
      "[2, 4, 6, 8, 10] + [1, 3, 5, 7, 9] = [2.0, 1.3333333333333333, 1.2, 1.1428571428571428, 1.1111111111111112]\n"
     ]
    }
   ],
   "source": [
    "#Divide\n",
    "print('{} + {} = {}'.format(list1,list2,list(arr/arr1)))"
   ]
  },
  {
   "cell_type": "code",
   "execution_count": 53,
   "metadata": {},
   "outputs": [
    {
     "name": "stdout",
     "output_type": "stream",
     "text": [
      "[16.27902095 14.0688057   8.47010794 19.10880592  5.9498818   1.23855845\n",
      " 10.82533365  9.1027979   4.34934155 14.44775704  5.33794443  6.41504621\n",
      " 17.6036168   2.92988616  2.99649103 15.25486078 14.11880468  4.22949492\n",
      " 15.21918925 10.19211826]\n"
     ]
    },
    {
     "data": {
      "text/plain": [
       "[1.2385584541651875,\n",
       " 5.090793708100498,\n",
       " 9.64745808314525,\n",
       " 14.640615090051604,\n",
       " 19.108805924771154]"
      ]
     },
     "execution_count": 53,
     "metadata": {},
     "output_type": "execute_result"
    }
   ],
   "source": [
    "#Question 2\n",
    "data = np.random.uniform(1,21,20)\n",
    "print(data)\n",
    "series=pd.Series(data)\n",
    "df=[series.min(),series.quantile(0.25),series.median(),series.quantile(0.75),series.max()]\n",
    "df"
   ]
  },
  {
   "cell_type": "code",
   "execution_count": 116,
   "metadata": {},
   "outputs": [
    {
     "data": {
      "text/plain": [
       "0    1\n",
       "2    3\n",
       "4    5\n",
       "dtype: int64"
      ]
     },
     "execution_count": 116,
     "metadata": {},
     "output_type": "execute_result"
    }
   ],
   "source": [
    "#Question 3\n",
    "df=pd.Series([1,2,3,4,5])\n",
    "df1=pd.Series([2,4,6,8,10])\n",
    "df2=df[~df.isin(df1)]            #~operator negates the condition\n",
    "df2"
   ]
  },
  {
   "cell_type": "code",
   "execution_count": 86,
   "metadata": {},
   "outputs": [
    {
     "name": "stdout",
     "output_type": "stream",
     "text": [
      "Original Series:\n",
      "0       Red\n",
      "1     Green\n",
      "2    Orange\n",
      "3      Pink\n",
      "4    Yellow\n",
      "5     White\n",
      "dtype: object\n",
      "\n",
      "Filtered Series:\n",
      "1     Green\n",
      "2    Orange\n",
      "4    Yellow\n",
      "5     White\n",
      "dtype: object\n"
     ]
    }
   ],
   "source": [
    "#Question 4\n",
    "def vowelCount(ser):\n",
    "    vowels=['a','e','i','o','u']\n",
    "    count=0\n",
    "    for i in ser:\n",
    "        if i in vowels:\n",
    "            count+=1\n",
    "    if count>=2:\n",
    "        return True\n",
    "    else:\n",
    "        return False\n",
    "    \n",
    "ser=pd.Series(['Red','Green','Orange','Pink','Yellow','White'])\n",
    "res=ser.map(lambda ser:vowelCount(ser))\n",
    "print(\"Original Series:\\n{}\\n\".format(ser))\n",
    "print(\"Filtered Series:\\n{}\".format(ser[res]))"
   ]
  },
  {
   "cell_type": "code",
   "execution_count": 70,
   "metadata": {},
   "outputs": [
    {
     "data": {
      "text/html": [
       "<div>\n",
       "<style scoped>\n",
       "    .dataframe tbody tr th:only-of-type {\n",
       "        vertical-align: middle;\n",
       "    }\n",
       "\n",
       "    .dataframe tbody tr th {\n",
       "        vertical-align: top;\n",
       "    }\n",
       "\n",
       "    .dataframe thead th {\n",
       "        text-align: right;\n",
       "    }\n",
       "</style>\n",
       "<table border=\"1\" class=\"dataframe\">\n",
       "  <thead>\n",
       "    <tr style=\"text-align: right;\">\n",
       "      <th></th>\n",
       "      <th>Name</th>\n",
       "      <th>Score</th>\n",
       "      <th>Attempts</th>\n",
       "      <th>Qualify</th>\n",
       "    </tr>\n",
       "  </thead>\n",
       "  <tbody>\n",
       "    <tr>\n",
       "      <th>1</th>\n",
       "      <td>Dima</td>\n",
       "      <td>9</td>\n",
       "      <td>3</td>\n",
       "      <td>no</td>\n",
       "    </tr>\n",
       "    <tr>\n",
       "      <th>3</th>\n",
       "      <td>James</td>\n",
       "      <td>NaN</td>\n",
       "      <td>3</td>\n",
       "      <td>no</td>\n",
       "    </tr>\n",
       "    <tr>\n",
       "      <th>5</th>\n",
       "      <td>Michael</td>\n",
       "      <td>20</td>\n",
       "      <td>3</td>\n",
       "      <td>yes</td>\n",
       "    </tr>\n",
       "  </tbody>\n",
       "</table>\n",
       "</div>"
      ],
      "text/plain": [
       "      Name Score  Attempts Qualify\n",
       "1     Dima     9         3      no\n",
       "3    James   NaN         3      no\n",
       "5  Michael    20         3     yes"
      ]
     },
     "execution_count": 70,
     "metadata": {},
     "output_type": "execute_result"
    }
   ],
   "source": [
    "#Question 5\n",
    "s1 = pd.Series([\"Anastasia\",\"Dima\",\"Katherine\",\"James\",\"Emily\",\"Michael\",\"Matthew\",\"Laura\",\"Kevin\",\"Jonas\"])\n",
    "s2 = pd.Series([12.5,9.0,16.5,'NaN',9.0,20.0,14.5,\"NaN\",8.0,19.0])\n",
    "s3 = pd.Series([1,3,2,3,2,3,1,1,2,1])\n",
    "s4 = pd.Series([\"yes\",\"no\",\"yes\",\"no\",\"no\",\"yes\",\"yes\",\"no\",\"no\",\"yes\"])\n",
    "data = {\"Name\":s1,\"Score\":s2,\"Attempts\":s3,\"Qualify\":s4}\n",
    "df2 = pd.DataFrame(data)\n",
    "df2[df2['Attempts'] > 2]"
   ]
  },
  {
   "cell_type": "code",
   "execution_count": null,
   "metadata": {},
   "outputs": [],
   "source": []
  }
 ],
 "metadata": {
  "kernelspec": {
   "display_name": "Python 3",
   "language": "python",
   "name": "python3"
  },
  "language_info": {
   "codemirror_mode": {
    "name": "ipython",
    "version": 3
   },
   "file_extension": ".py",
   "mimetype": "text/x-python",
   "name": "python",
   "nbconvert_exporter": "python",
   "pygments_lexer": "ipython3",
   "version": "3.7.6"
  }
 },
 "nbformat": 4,
 "nbformat_minor": 4
}
