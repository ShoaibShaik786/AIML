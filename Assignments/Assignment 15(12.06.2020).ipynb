{
 "cells": [
  {
   "cell_type": "markdown",
   "metadata": {},
   "source": [
    "### CSE-221710302060-Shaik Shoaib Aslam"
   ]
  },
  {
   "cell_type": "code",
   "execution_count": 10,
   "metadata": {},
   "outputs": [
    {
     "name": "stdout",
     "output_type": "stream",
     "text": [
      "xyz:750,abc:265,qwerty:195\n"
     ]
    },
    {
     "data": {
      "text/plain": [
       "'abc'"
      ]
     },
     "execution_count": 10,
     "metadata": {},
     "output_type": "execute_result"
    }
   ],
   "source": [
    "# Question 7\n",
    "s= input()\n",
    "ls1 =s.split(',')\n",
    "ls2 = [i.split(':')[1] for i in ls1]\n",
    "ls3 = []\n",
    "for num in ls2:\n",
    "    n = int(num)\n",
    "    rev = num[::-1]\n",
    "    while str(n) != rev:\n",
    "        n += int(rev)\n",
    "        rev = str(n)[::-1]\n",
    "    ls3.append(n)\n",
    "ls1[ls3.index(max(ls3))].split(':')[0]"
   ]
  },
  {
   "cell_type": "code",
   "execution_count": 7,
   "metadata": {},
   "outputs": [
    {
     "name": "stdout",
     "output_type": "stream",
     "text": [
      "{'userA': ['local'], 'userB': ['public'], 'userC': ['local', 'administrator'], 'admin': ['local', 'public', 'administrator']}\n"
     ]
    }
   ],
   "source": [
    "# Question 8\n",
    "def groupuser(d):\n",
    "    l1=list(d.keys())\n",
    "    l2=list(d.values())\n",
    "    users=[]\n",
    "    res={}\n",
    "    for i in l2:\n",
    "        users.extend(i)\n",
    "    users=list(set(users))\n",
    "    for i  in range(len(users)):\n",
    "        rec=[]\n",
    "        for j in range(len(l2)):\n",
    "            if users[i] in l2[j]:\n",
    "                rec.append(l1[j])\n",
    "        res[users[i]]=rec\n",
    "            \n",
    "    print(res,sep='\\n')\n",
    "    \n",
    "groupuser({\"local\":[\"admin\",\"userA\",\"userC\"],\"public\":[\"admin\",\"userB\"],\"administrator\":[\"admin\",\"userC\"]})"
   ]
  },
  {
   "cell_type": "code",
   "execution_count": 9,
   "metadata": {},
   "outputs": [
    {
     "name": "stdout",
     "output_type": "stream",
     "text": [
      "london 40000 12,chicago 60000 20,munich 50000 15,paris 70000 5\n",
      "paris munich "
     ]
    }
   ],
   "source": [
    "# Question 9\n",
    "st=input().split(',')\n",
    "l1=[]\n",
    "l2=[]\n",
    "for i in st:\n",
    "    i=i.split(\" \")\n",
    "    l1.append(tuple([i[0],int(i[1])]))\n",
    "    l2.append(tuple([i[0],int(i[2])]))\n",
    "    \n",
    "l1.sort(key=lambda x:x[1],reverse=True)\n",
    "l2.sort(key=lambda x:x[1])\n",
    "\n",
    "for i in range(len(l1)):\n",
    "    if l1[i][0]==l2[i][0]:\n",
    "        print(l1[i][0],end=\" \")"
   ]
  },
  {
   "cell_type": "code",
   "execution_count": 8,
   "metadata": {},
   "outputs": [
    {
     "name": "stdout",
     "output_type": "stream",
     "text": [
      "4\n",
      "5\n"
     ]
    }
   ],
   "source": [
    "# Question 11\n",
    "user_id = [1,1,2,3,3,4,4,4,5,5]\n",
    "user = list(set(user_id))\n",
    "ancestry=[\"England\",\"Ireland\",\"France\",\"Germany\",\"Poland\",\"England\",\"France\",\"Germany\",\"France\",\"Germany\"]\n",
    "dict1 = {}\n",
    "for i in user:\n",
    "    dict1[i] = [ancestry[j] for j in range(len(user_id)) if i == user_id[j]]\n",
    "\n",
    "required = [\"France\",\"Germany\"]\n",
    "\n",
    "for i in dict1.values():\n",
    "    flag = 0\n",
    "    for j in required:\n",
    "        if j in i:\n",
    "            flag += 1\n",
    "    if flag == len(required):\n",
    "        for key,values in dict1.items():\n",
    "            if i == values:\n",
    "                print(key)"
   ]
  },
  {
   "cell_type": "code",
   "execution_count": null,
   "metadata": {},
   "outputs": [],
   "source": []
  }
 ],
 "metadata": {
  "kernelspec": {
   "display_name": "Python 3",
   "language": "python",
   "name": "python3"
  },
  "language_info": {
   "codemirror_mode": {
    "name": "ipython",
    "version": 3
   },
   "file_extension": ".py",
   "mimetype": "text/x-python",
   "name": "python",
   "nbconvert_exporter": "python",
   "pygments_lexer": "ipython3",
   "version": "3.7.6"
  }
 },
 "nbformat": 4,
 "nbformat_minor": 4
}
