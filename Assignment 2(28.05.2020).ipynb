{
 "cells": [
  {
   "cell_type": "markdown",
   "metadata": {
    "colab_type": "text",
    "id": "jYoq4sChfc7V"
   },
   "source": [
    "# CSE-22710302060-Shaik Shoaib Aslam"
   ]
  },
  {
   "cell_type": "code",
   "execution_count": 1,
   "metadata": {
    "colab": {},
    "colab_type": "code",
    "id": "kIxFvRf5tolv"
   },
   "outputs": [
    {
     "name": "stdout",
     "output_type": "stream",
     "text": [
      "Enter a String: shoaib+-\n",
      "3\n",
      "3\n",
      "2\n"
     ]
    }
   ],
   "source": [
    "#Question 1\n",
    "vcount = 0;  \n",
    "ccount = 0;  \n",
    "spcount = 0;\n",
    "s= input(\"Enter a String: \")\n",
    "   \n",
    "s = s.lower() \n",
    " \n",
    "for i in range(0,len(s)):   \n",
    "    if s[i] in ('a',\"e\",\"i\",\"o\",\"u\"):  \n",
    "        vcount = vcount + 1;  \n",
    "    elif (s[i] >= 'a' and s[i] <= 'z'):  \n",
    "        ccount = ccount + 1; \n",
    "    elif s[i] in (\"+\",\"-\",\"/\",\"*\"):\n",
    "      spcount = spcount + 1; \n",
    "  \n",
    "print(vcount)  \n",
    "print(ccount)\n",
    "print(spcount)  "
   ]
  },
  {
   "cell_type": "code",
   "execution_count": 2,
   "metadata": {
    "colab": {},
    "colab_type": "code",
    "id": "9cGSptuNtz3T"
   },
   "outputs": [
    {
     "name": "stdout",
     "output_type": "stream",
     "text": [
      "Enter a string : abbaaccbbaaa\n",
      "2\n"
     ]
    }
   ],
   "source": [
    "#Question 2\n",
    "s = input(\"Enter a string : \")\n",
    "print(s.count(\"aa\"))"
   ]
  },
  {
   "cell_type": "code",
   "execution_count": 3,
   "metadata": {
    "colab": {
     "base_uri": "https://localhost:8080/",
     "height": 50
    },
    "colab_type": "code",
    "executionInfo": {
     "elapsed": 24304,
     "status": "ok",
     "timestamp": 1590687909126,
     "user": {
      "displayName": "SHAIK SHOAIB ASLAM SHAIK SHOAIB ASLAM",
      "photoUrl": "",
      "userId": "04851822154870160637"
     },
     "user_tz": -330
    },
    "id": "ksbd8nNgt1CM",
    "outputId": "04e4be5e-a829-4197-cc0d-0e4959cdd25d"
   },
   "outputs": [
    {
     "name": "stdout",
     "output_type": "stream",
     "text": [
      "Enter String : ((((()()()))))()\n",
      "8\n"
     ]
    }
   ],
   "source": [
    "#Question 3\n",
    "stack = [] \n",
    "count = 0\n",
    "n = input(\"Enter String : \")\n",
    "for i in range(0,len(n)):\n",
    "  if n[i] == \"(\":\n",
    "    stack.append(i)\n",
    "  elif n[i] == \")\":\n",
    "    stack.append(i)\n",
    "    stack.pop() \n",
    "    stack.pop()\n",
    "    count = count + 1\n",
    "print(count) \n",
    "\n",
    "  \n",
    "   \n",
    "  \n"
   ]
  },
  {
   "cell_type": "code",
   "execution_count": 4,
   "metadata": {
    "colab": {
     "base_uri": "https://localhost:8080/",
     "height": 67
    },
    "colab_type": "code",
    "executionInfo": {
     "elapsed": 8632,
     "status": "ok",
     "timestamp": 1590677873001,
     "user": {
      "displayName": "SHAIK SHOAIB ASLAM SHAIK SHOAIB ASLAM",
      "photoUrl": "",
      "userId": "04851822154870160637"
     },
     "user_tz": -330
    },
    "id": "jRBNMLRyt1Ro",
    "outputId": "71432985-49c0-45f1-bea3-cc371562f00c"
   },
   "outputs": [
    {
     "name": "stdout",
     "output_type": "stream",
     "text": [
      "Enter Lower limit : 1\n",
      "Enter Higher limit : 100\n",
      "18\n"
     ]
    }
   ],
   "source": [
    "#Question 4\n",
    "count = 0;\n",
    "n1 = int(input(\"Enter Lower limit : \"))\n",
    "n2 = int(input(\"Enter Higher limit : \"))\n",
    "for i in range(n1,n2+1):\n",
    "  temp = i;\n",
    "  rev = 0;\n",
    "  while temp > 0 :\n",
    "    rem = temp%10;\n",
    "    rev = rev*10 + rem;\n",
    "    temp = temp//10;\n",
    "  if(i == rev):\n",
    "    count = count+1;\n",
    "print(count)\n"
   ]
  },
  {
   "cell_type": "code",
   "execution_count": 5,
   "metadata": {
    "colab": {
     "base_uri": "https://localhost:8080/",
     "height": 50
    },
    "colab_type": "code",
    "executionInfo": {
     "elapsed": 6856,
     "status": "ok",
     "timestamp": 1590689689168,
     "user": {
      "displayName": "SHAIK SHOAIB ASLAM SHAIK SHOAIB ASLAM",
      "photoUrl": "",
      "userId": "04851822154870160637"
     },
     "user_tz": -330
    },
    "id": "NNDnybXct1d2",
    "outputId": "45dcc795-906a-4b38-d167-c2d58146aed1"
   },
   "outputs": [
    {
     "name": "stdout",
     "output_type": "stream",
     "text": [
      "Enter a Number : 127\n",
      "848 is palindrome\n"
     ]
    }
   ],
   "source": [
    "#Question 5\n",
    "def Palindrome(n):\n",
    "  s = str(n)\n",
    "  rev = int(s[::-1])\n",
    "  n += rev\n",
    "  print(n,\"is palindrome\") \n",
    "\n",
    "n = int(input(\"Enter a Number : \"))\n",
    "\n",
    "k = str(n)\n",
    "if k == k[::-1]:\n",
    "  print(k,\"is palindrome\")\n",
    "else : \n",
    "  Palindrome(n)\n"
   ]
  },
  {
   "cell_type": "code",
   "execution_count": 6,
   "metadata": {
    "colab": {
     "base_uri": "https://localhost:8080/",
     "height": 50
    },
    "colab_type": "code",
    "executionInfo": {
     "elapsed": 5971,
     "status": "ok",
     "timestamp": 1590747660528,
     "user": {
      "displayName": "SHAIK SHOAIB ASLAM SHAIK SHOAIB ASLAM",
      "photoUrl": "",
      "userId": "04851822154870160637"
     },
     "user_tz": -330
    },
    "id": "iHYP_wxqt2J2",
    "outputId": "05e90790-a174-481a-cf0f-031790854ca8"
   },
   "outputs": [
    {
     "name": "stdout",
     "output_type": "stream",
     "text": [
      "Enter a String : orange\n",
      "puboif\n"
     ]
    }
   ],
   "source": [
    "#Question 6\n",
    "def isvowel(vow):\n",
    "  vowels = ['a','e','i','o','u']\n",
    "  if vow in vowels:\n",
    "    return True\n",
    "  else:\n",
    "    return False\n",
    "\n",
    "n = input(\"Enter a String : \")\n",
    "n = n.lower()\n",
    "ncode = ''\n",
    "for i in n:\n",
    "  if isvowel(i):\n",
    "    while isvowel(i):\n",
    "      i = chr(ord(i)+1)\n",
    "      if ord(i) > ord('z'):\n",
    "        i = 'a'\n",
    "    ncode = ncode + i;\n",
    "  \n",
    "  else:\n",
    "    while not isvowel(i):\n",
    "      i = chr(ord(i)+1)\n",
    "      if ord(i) > ord('z'):\n",
    "        i = 'a'\n",
    "    ncode = ncode + i\n",
    "print(ncode)\n",
    "\n",
    "\n"
   ]
  },
  {
   "cell_type": "code",
   "execution_count": 7,
   "metadata": {
    "colab": {
     "base_uri": "https://localhost:8080/",
     "height": 50
    },
    "colab_type": "code",
    "executionInfo": {
     "elapsed": 4139,
     "status": "ok",
     "timestamp": 1590681494720,
     "user": {
      "displayName": "SHAIK SHOAIB ASLAM SHAIK SHOAIB ASLAM",
      "photoUrl": "",
      "userId": "04851822154870160637"
     },
     "user_tz": -330
    },
    "id": "5v7kthDWt2UG",
    "outputId": "62aaad2f-3db5-43e3-ee02-1d0820e8cf1a"
   },
   "outputs": [
    {
     "name": "stdout",
     "output_type": "stream",
     "text": [
      "Enter a String : Appli123cation456 \n",
      "21\n"
     ]
    }
   ],
   "source": [
    "#Question 7\n",
    "sum = 0;\n",
    "n = input(\"Enter a String : \")\n",
    "\n",
    "for i in n:\n",
    "  if i.isdigit()==True:\n",
    "    num = int(i)\n",
    "    sum += num\n",
    "print(sum) "
   ]
  },
  {
   "cell_type": "code",
   "execution_count": 8,
   "metadata": {
    "colab": {
     "base_uri": "https://localhost:8080/",
     "height": 67
    },
    "colab_type": "code",
    "executionInfo": {
     "elapsed": 4359,
     "status": "ok",
     "timestamp": 1590680813623,
     "user": {
      "displayName": "SHAIK SHOAIB ASLAM SHAIK SHOAIB ASLAM",
      "photoUrl": "",
      "userId": "04851822154870160637"
     },
     "user_tz": -330
    },
    "id": "ugXDq6IPt2dK",
    "outputId": "f92531f6-cd6c-4131-ef6e-61f3d0195ada"
   },
   "outputs": [
    {
     "name": "stdout",
     "output_type": "stream",
     "text": [
      "Enter a number between 0.0 and 1.0 : 0.85\n",
      "B\n"
     ]
    }
   ],
   "source": [
    "#Question 8\n",
    "min = 0.0\n",
    "max = 1.0\n",
    "n = float(input(\"Enter a number between 0.0 and 1.0 : \"))\n",
    "if n < 0.0 or n > 1.0:\n",
    "  print(\"Invalid Input!\\nPlease enter a valid input \")\n",
    "else :\n",
    "  if n >= 0.9:\n",
    "    print(\"A\")\n",
    "  elif n >= 0.8:\n",
    "    print(\"B\")\n",
    "  elif n >= 0.7:\n",
    "    print(\"C\")\n",
    "  elif n >= 0.6:\n",
    "    print(\"D\")\n",
    "  elif n < 0.6:\n",
    "    print(\"F\")\n",
    "  \n"
   ]
  },
  {
   "cell_type": "code",
   "execution_count": 9,
   "metadata": {
    "colab": {
     "base_uri": "https://localhost:8080/",
     "height": 874
    },
    "colab_type": "code",
    "executionInfo": {
     "elapsed": 1541,
     "status": "ok",
     "timestamp": 1590680148424,
     "user": {
      "displayName": "SHAIK SHOAIB ASLAM SHAIK SHOAIB ASLAM",
      "photoUrl": "",
      "userId": "04851822154870160637"
     },
     "user_tz": -330
    },
    "id": "V2wxLk7ft2m6",
    "outputId": "172fb722-3560-4150-a6b6-1c85feb18ed8"
   },
   "outputs": [
    {
     "name": "stdout",
     "output_type": "stream",
     "text": [
      "FIZZBUZZ\n",
      "1\n",
      "2\n",
      "FIZZ\n",
      "4\n",
      "BUZZ\n",
      "FIZZ\n",
      "7\n",
      "8\n",
      "FIZZ\n",
      "BUZZ\n",
      "11\n",
      "FIZZ\n",
      "13\n",
      "14\n",
      "FIZZBUZZ\n",
      "16\n",
      "17\n",
      "FIZZ\n",
      "19\n",
      "BUZZ\n",
      "FIZZ\n",
      "22\n",
      "23\n",
      "FIZZ\n",
      "BUZZ\n",
      "26\n",
      "FIZZ\n",
      "28\n",
      "29\n",
      "FIZZBUZZ\n",
      "31\n",
      "32\n",
      "FIZZ\n",
      "34\n",
      "BUZZ\n",
      "FIZZ\n",
      "37\n",
      "38\n",
      "FIZZ\n",
      "BUZZ\n",
      "41\n",
      "FIZZ\n",
      "43\n",
      "44\n",
      "FIZZBUZZ\n",
      "46\n",
      "47\n",
      "FIZZ\n",
      "49\n",
      "BUZZ\n"
     ]
    }
   ],
   "source": [
    "#Question 9\n",
    "for i in range(0,51):\n",
    "  if i < 0:\n",
    "    print(\"FIZZBUZZ\")\n",
    "  if i%3 == 0 and i%5 == 0:\n",
    "    print(\"FIZZBUZZ\")\n",
    "  elif i%3 == 0:\n",
    "    print(\"FIZZ\")\n",
    "  elif i%5 == 0:\n",
    "    print(\"BUZZ\")\n",
    "  else :\n",
    "    print(i)\n",
    " \n",
    "  "
   ]
  },
  {
   "cell_type": "code",
   "execution_count": 10,
   "metadata": {
    "colab": {
     "base_uri": "https://localhost:8080/",
     "height": 84
    },
    "colab_type": "code",
    "executionInfo": {
     "elapsed": 10029,
     "status": "ok",
     "timestamp": 1590680836866,
     "user": {
      "displayName": "SHAIK SHOAIB ASLAM SHAIK SHOAIB ASLAM",
      "photoUrl": "",
      "userId": "04851822154870160637"
     },
     "user_tz": -330
    },
    "id": "_zscCXXYt2xx",
    "outputId": "448dcbc7-e7b5-432f-b051-713fe6123f95"
   },
   "outputs": [
    {
     "name": "stdout",
     "output_type": "stream",
     "text": [
      "Enter a : 26\n",
      "Enter b : 15\n",
      "Enter c : 29\n",
      "26\n"
     ]
    }
   ],
   "source": [
    "#Question 10\n",
    "a = int(input(\"Enter a : \"))\n",
    "b = int(input(\"Enter b : \"))\n",
    "c = int(input(\"Enter c : \"))\n",
    "l = [a ,b ,c]\n",
    "\n",
    "l.sort()\n",
    "\n",
    "median = len(l)//2\n",
    "\n",
    "print(l[median])"
   ]
  },
  {
   "cell_type": "code",
   "execution_count": null,
   "metadata": {},
   "outputs": [],
   "source": []
  }
 ],
 "metadata": {
  "colab": {
   "authorship_tag": "ABX9TyMuSPv1FGNVRIm/dJmNnjKJ",
   "collapsed_sections": [],
   "name": "Assignment 2(28.05.2020).ipynb",
   "provenance": []
  },
  "kernelspec": {
   "display_name": "Python 3",
   "language": "python",
   "name": "python3"
  },
  "language_info": {
   "codemirror_mode": {
    "name": "ipython",
    "version": 3
   },
   "file_extension": ".py",
   "mimetype": "text/x-python",
   "name": "python",
   "nbconvert_exporter": "python",
   "pygments_lexer": "ipython3",
   "version": "3.7.6"
  }
 },
 "nbformat": 4,
 "nbformat_minor": 1
}
